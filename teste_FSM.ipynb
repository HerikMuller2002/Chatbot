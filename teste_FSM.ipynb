{
 "cells": [
  {
   "cell_type": "code",
   "execution_count": 1,
   "metadata": {},
   "outputs": [
    {
     "name": "stderr",
     "output_type": "stream",
     "text": [
      "c:\\Users\\Semeq\\Desktop\\Chatbot\\.venv\\lib\\site-packages\\tqdm\\auto.py:21: TqdmWarning: IProgress not found. Please update jupyter and ipywidgets. See https://ipywidgets.readthedocs.io/en/stable/user_install.html\n",
      "  from .autonotebook import tqdm as notebook_tqdm\n",
      "[nltk_data] Downloading package punkt to\n",
      "[nltk_data]     C:\\Users\\Semeq\\AppData\\Roaming\\nltk_data...\n",
      "[nltk_data]   Package punkt is already up-to-date!\n",
      "[nltk_data] Downloading package stopwords to\n",
      "[nltk_data]     C:\\Users\\Semeq\\AppData\\Roaming\\nltk_data...\n",
      "[nltk_data]   Package stopwords is already up-to-date!\n"
     ]
    }
   ],
   "source": [
    "from transitions import Machine\n",
    "from nltk.tokenize import sent_tokenize\n",
    "\n",
    "from src.utils.chatbot_utils import *\n",
    "from src.utils.model_predictions import *\n",
    "from src.utils.preprocessing_utils import *\n",
    "\n",
    "class Conversation():\n",
    "    state = []\n",
    "    def __init__(self, message):\n",
    "        # Inicializando as variáveis\n",
    "        self.message = message\n",
    "        self.context = ''\n",
    "        self.equipament = ''\n",
    "        self.problem = ''\n",
    "        self.intents = []\n",
    "\n",
    "        ## Inicializando a máquina de estado\n",
    "        # self.machine = Machine(model=self, states=Conversation.state, initial='initial')\n",
    "        # self.machine.add_transition()\n",
    "    \n",
    "    @property\n",
    "    def offensive_filter(self):\n",
    "        return classifier_offensive(self.message)\n",
    "    \n",
    "    @staticmethod\n",
    "    def preprocess(text):\n",
    "        return preprocess_text(text)\n",
    "    \n",
    "    # @classmethod\n",
    "    def get_response(self):\n",
    "        responses = []\n",
    "        if '1' in self.offensive_filter:\n",
    "            responses.append(get_response('OFFENSIVE_TEXT'))\n",
    "            print(\"ofensivo\")\n",
    "        else:\n",
    "            tokens1 = sent_tokenize(self.message)\n",
    "            tokens2 = sent_tokenizer_spacy(self.message)\n",
    "            tokens3 = sent_tokenizer_flair(self.message)\n",
    "            text = self.preprocess(self.message)\n",
    "            print(tokens1)\n",
    "            print()\n",
    "            print(tokens2)\n",
    "            print()\n",
    "            print(text)\n",
    "            print()\n",
    "            # for token in tokens:\n",
    "            #     response = classify_token(token)"
   ]
  },
  {
   "cell_type": "code",
   "execution_count": 2,
   "metadata": {},
   "outputs": [
    {
     "name": "stderr",
     "output_type": "stream",
     "text": [
      "Some weights of the model checkpoint at neuralmind/bert-base-portuguese-cased were not used when initializing BertForSequenceClassification: ['cls.predictions.transform.LayerNorm.bias', 'cls.seq_relationship.bias', 'cls.predictions.decoder.weight', 'cls.predictions.transform.LayerNorm.weight', 'cls.seq_relationship.weight', 'cls.predictions.transform.dense.weight', 'cls.predictions.transform.dense.bias', 'cls.predictions.bias']\n",
      "- This IS expected if you are initializing BertForSequenceClassification from the checkpoint of a model trained on another task or with another architecture (e.g. initializing a BertForSequenceClassification model from a BertForPreTraining model).\n",
      "- This IS NOT expected if you are initializing BertForSequenceClassification from the checkpoint of a model that you expect to be exactly identical (initializing a BertForSequenceClassification model from a BertForSequenceClassification model).\n",
      "Some weights of BertForSequenceClassification were not initialized from the model checkpoint at neuralmind/bert-base-portuguese-cased and are newly initialized: ['classifier.weight', 'classifier.bias']\n",
      "You should probably TRAIN this model on a down-stream task to be able to use it for predictions and inference.\n"
     ]
    },
    {
     "name": "stdout",
     "output_type": "stream",
     "text": [
      "['A festa tá bombandooo vem pra cá e traz a galera']\n",
      "\n",
      "['A festa tá bombandooo vem pra cá e traz a galera']\n",
      "\n",
      "festa ta bombandooo vir pra ca trazer galerar\n",
      "\n"
     ]
    }
   ],
   "source": [
    "a = Conversation(\"A festa tá bombandooo vem pra cá e traz a galera\")\n",
    "b = a.get_response()\n",
    "# print(b)"
   ]
  },
  {
   "cell_type": "code",
   "execution_count": null,
   "metadata": {},
   "outputs": [],
   "source": []
  }
 ],
 "metadata": {
  "kernelspec": {
   "display_name": ".venv",
   "language": "python",
   "name": "python3"
  },
  "language_info": {
   "codemirror_mode": {
    "name": "ipython",
    "version": 3
   },
   "file_extension": ".py",
   "mimetype": "text/x-python",
   "name": "python",
   "nbconvert_exporter": "python",
   "pygments_lexer": "ipython3",
   "version": "3.9.7"
  },
  "orig_nbformat": 4
 },
 "nbformat": 4,
 "nbformat_minor": 2
}

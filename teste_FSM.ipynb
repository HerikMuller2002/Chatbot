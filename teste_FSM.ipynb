{
 "cells": [
  {
   "cell_type": "code",
   "execution_count": null,
   "metadata": {},
   "outputs": [],
   "source": [
    "from transitions import Machine\n",
    "\n",
    "from src.utils.chatbot_utils import *\n",
    "from src.utils.model_predictions import *\n",
    "from src.utils.preprocessing_utils import *\n",
    "\n",
    "class StateMachine():\n",
    "    state = []\n",
    "    def __init__(self, message):\n",
    "        # Inicializando as variáveis\n",
    "        self.message = message\n",
    "        self.context = ''\n",
    "        self.equipament = ''\n",
    "        self.problem = ''\n",
    "        self.intents = []\n",
    "\n",
    "        ## Inicializando a máquina de estado\n",
    "        # self.machine = Machine(model=self, states=Conversation.state, initial='initial')\n",
    "        # self.machine.add_transition()\n",
    "    \n",
    "    @property\n",
    "    def offensive_filter(self):\n",
    "        return classifier_offensive(self.message)\n",
    "    \n",
    "    @staticmethod\n",
    "    def preprocess(text):\n",
    "        return preprocess_text(text)\n",
    "    \n",
    "    @staticmethod\n",
    "    def get_intent(text):\n",
    "        intents = classifier_intent(text)\n",
    "        for intent in intents:\n",
    "            if intent['probability'] > 0.8 and intent['class'] != \"SAUDACAO\":\n",
    "                return intent['class']\n",
    "            else \n",
    "\n",
    "        return classifier_intent(text)\n",
    "    \n",
    "    @staticmethod\n",
    "    def get_problem(text):\n",
    "        return classifier_problem(text)\n",
    "    \n",
    "    # @classmethod\n",
    "    def get_response(self):\n",
    "        responses = []\n",
    "        if '1' in self.offensive_filter:\n",
    "            responses.append(get_response('OFFENSIVE_TEXT'))\n",
    "            print(\"ofensivo\")\n",
    "        else:\n",
    "            tokens = sent_tokenizer_nltk(self.message)\n",
    "            # for token in tokens:\n",
    "            #     response = classify_token(token)"
   ]
  },
  {
   "cell_type": "code",
   "execution_count": null,
   "metadata": {},
   "outputs": [],
   "source": [
    "a = StateMachine(\"A festa tá bombandooo, vem pra cá e traz a galera\")\n",
    "b = a.get_response()\n",
    "# print(b)"
   ]
  },
  {
   "cell_type": "code",
   "execution_count": null,
   "metadata": {},
   "outputs": [],
   "source": []
  }
 ],
 "metadata": {
  "kernelspec": {
   "display_name": ".venv",
   "language": "python",
   "name": "python3"
  },
  "language_info": {
   "codemirror_mode": {
    "name": "ipython",
    "version": 3
   },
   "file_extension": ".py",
   "mimetype": "text/x-python",
   "name": "python",
   "nbconvert_exporter": "python",
   "pygments_lexer": "ipython3",
   "version": "3.9.7"
  },
  "orig_nbformat": 4
 },
 "nbformat": 4,
 "nbformat_minor": 2
}

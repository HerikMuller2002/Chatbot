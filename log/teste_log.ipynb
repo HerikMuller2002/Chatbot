{
 "cells": [
  {
   "cell_type": "code",
   "execution_count": 3,
   "metadata": {},
   "outputs": [],
   "source": [
    "import os\n",
    "import logging"
   ]
  },
  {
   "cell_type": "code",
   "execution_count": 19,
   "metadata": {},
   "outputs": [],
   "source": [
    "def log(session_id, **kwargs):\n",
    "    log_folder = \"logs\"\n",
    "    log_file = f\"chatbot_{session_id}.log\"  \n",
    "    log_path = os.path.join(log_folder, log_file)\n",
    "\n",
    "    logging.basicConfig(filename=log_path, level=logging.INFO)\n",
    "    if os.path.exists(log_path):\n",
    "        with open(log_path, 'r+', encoding=\"utf-8\") as f:\n",
    "            f.seek(0, os.SEEK_END)\n",
    "            if f.tell() != 0:\n",
    "                f.write('\\n')\n",
    "    else:\n",
    "        os.makedirs(log_folder, exist_ok=True) \n",
    "    for chave, valor in kwargs.items():        \n",
    "        logging.info(f'{chave}: {valor}')\n",
    "\n",
    "def clear_log(file_path):\n",
    "    try:\n",
    "        os.remove(file_path)\n",
    "    except FileNotFoundError:\n",
    "        pass\n",
    "\n",
    "def get_log(file_path, chave):\n",
    "    with open(file_path, 'r', encoding=\"latin-1\") as f:\n",
    "        linhas = f.readlines()\n",
    "        for linha in linhas:\n",
    "            if chave in linha:\n",
    "                return linha.split(\": \")[1].strip()\n",
    "\n",
    "log('123', equipamento='bomba')"
   ]
  },
  {
   "cell_type": "code",
   "execution_count": null,
   "metadata": {},
   "outputs": [],
   "source": []
  }
 ],
 "metadata": {
  "kernelspec": {
   "display_name": "Python 3",
   "language": "python",
   "name": "python3"
  },
  "language_info": {
   "codemirror_mode": {
    "name": "ipython",
    "version": 3
   },
   "file_extension": ".py",
   "mimetype": "text/x-python",
   "name": "python",
   "nbconvert_exporter": "python",
   "pygments_lexer": "ipython3",
   "version": "3.9.7"
  },
  "orig_nbformat": 4
 },
 "nbformat": 4,
 "nbformat_minor": 2
}

{
 "cells": [
  {
   "attachments": {},
   "cell_type": "markdown",
   "metadata": {},
   "source": [
    "### Imports:"
   ]
  },
  {
   "cell_type": "code",
   "execution_count": null,
   "metadata": {},
   "outputs": [],
   "source": [
    "from gensim.models import KeyedVectors\n",
    "from gensim.models import FastText\n",
    "\n",
    "import pandas as pd\n",
    "from sklearn.model_selection import train_test_split\n",
    "\n",
    "from random import shuffle\n",
    "from pickle import dump, load\n",
    "from numpy import array\n",
    "from keras.models import Sequential, load_model\n",
    "from keras.layers import Dense, Dropout, Embedding, LSTM\n",
    "from keras.optimizers import SGD\n"
   ]
  },
  {
   "attachments": {},
   "cell_type": "markdown",
   "metadata": {},
   "source": [
    "### Model:"
   ]
  },
  {
   "cell_type": "code",
   "execution_count": null,
   "metadata": {},
   "outputs": [],
   "source": [
    "embedding_model = KeyedVectors.load_word2vec_format(r'embeddings\\Word2Vec\\cbow_s100.txt')"
   ]
  },
  {
   "cell_type": "code",
   "execution_count": null,
   "metadata": {},
   "outputs": [],
   "source": [
    "data = pd.read_csv('train.csv')\n",
    "x_train, x_test, y_train, y_test = train_test_split(data['samples'], data['Intent'], test_size = 0.3, shuffle = True, stratify = data['Intents'], random_state = 7)\n",
    "\n",
    "# le = LabelEncoder()\n",
    "# le.fit(y_train)\n",
    "# y_train = le.transform(y_train)\n",
    "# y_test = le.transform(y_test)\n",
    "\n",
    "# tokenizer_ = Tokenizer()\n",
    "# tokenizer_.fit_on_texts(X_train)\n",
    "# print(f\"Train Document Count: \\n{tokenizer_.document_count}\\n\")\n",
    "\n",
    "# def convert_to_padded(tokenizer, docs):\n",
    "#     embedded = tokenizer.texts_to_sequences(docs)\n",
    "#     padded = pad_sequences(embedded, maxlen = max_length, padding = 'post')\n",
    "#     return padded\n",
    "\n",
    "# vocab_size = len(tokenizer_.word_counts) + 1\n",
    "# print(f'Vocab size:\\n{vocab_size}')\n",
    "\n",
    "# padded_X_train = convert_to_padded(tokenizer = tokenizer_, docs = X_train)\n",
    "# padded_X_test = convert_to_padded(tokenizer = tokenizer_, docs = X_test)\n",
    "# print(f'padded_X_train\\n{padded_X_train}')\n",
    "# print(f'padded_X_val\\n{padded_X_test}')\n",
    "\n",
    "# max_length = len(max(padded_X_train, key = len))\n",
    "# print(f'Max length:\\n{max_length}')\n",
    "\n",
    "# embeddings_index = {}\n",
    "# f = open('models/glove.twitter.27B/glove.twitter.27B.50d.txt')\n",
    "# for line in f:\n",
    "#     values = line.split()\n",
    "#     word = values[0]\n",
    "#     coefs = np.asarray(values[1:], dtype='float32')\n",
    "#     embeddings_index[word] = coefs\n",
    "# f.close()\n",
    "# print('Found %s word vectors.' % len(embeddings_index))\n",
    "\n",
    "# word_index = tokenizer_.word_index\n",
    "# EMBEDDING_DIM = 50\n",
    "# embedding_matrix = np.zeros((len(word_index) + 1, EMBEDDING_DIM))\n",
    "# for word, i in word_index.items():\n",
    "#     embedding_vector = embeddings_index.get(word)\n",
    "#     if embedding_vector is not None:\n",
    "#         embedding_matrix[i] = embedding_vector"
   ]
  },
  {
   "cell_type": "code",
   "execution_count": null,
   "metadata": {},
   "outputs": [],
   "source": [
    "def make_model(qtd_labels,max_length):\n",
    "    model = Sequential()\n",
    "\n",
    "    model.add(Embedding(vocab_size, embedding_matrix.shape[1], input_length = max_length, trainable = False, weights = [embedding_matrix]))\n",
    "\n",
    "    model.add(Bidirectional(LSTM(128, return_sequences=True, recurrent_dropout=0.1, dropout=0.1), 'concat'))\n",
    "    model.add(Dropout(0.5))\n",
    "\n",
    "    model.add(LSTM(128, return_sequences=False, recurrent_dropout=0.1, dropout=0.1))\n",
    "    model.add(Dropout(0.5))\n",
    "\n",
    "    model.add(Dense(128, input_shape=(max_length), activation='relu'))\n",
    "    model.add(Dropout(0.5))\n",
    "    model.add(Dense(64, activation='relu'))\n",
    "    model.add(Dropout(0.5))\n",
    "    model.add(Dense(qtd_labels, activation='softmax'))\n",
    "\n",
    "def train_model(df):\n",
    "    "
   ]
  }
 ],
 "metadata": {
  "kernelspec": {
   "display_name": ".env",
   "language": "python",
   "name": "python3"
  },
  "language_info": {
   "codemirror_mode": {
    "name": "ipython",
    "version": 3
   },
   "file_extension": ".py",
   "mimetype": "text/x-python",
   "name": "python",
   "nbconvert_exporter": "python",
   "pygments_lexer": "ipython3",
   "version": "3.9.7"
  },
  "orig_nbformat": 4
 },
 "nbformat": 4,
 "nbformat_minor": 2
}

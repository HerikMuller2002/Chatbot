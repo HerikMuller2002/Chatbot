{
 "cells": [
  {
   "cell_type": "code",
   "execution_count": 1,
   "metadata": {},
   "outputs": [],
   "source": [
    "import pandas as pd"
   ]
  },
  {
   "cell_type": "code",
   "execution_count": 121,
   "metadata": {},
   "outputs": [],
   "source": [
    "df_en = pd.read_csv('csv/troubleshooting_v2_en.csv')\n",
    "df_pt = pd.read_csv('csv/troubleshooting_v2.csv')\n",
    "\n",
    "df_en = df_en.drop(columns=['Unnamed: 0'])\n",
    "df_pt = df_pt.drop(columns=['Unnamed: 0'])"
   ]
  },
  {
   "cell_type": "code",
   "execution_count": 128,
   "metadata": {},
   "outputs": [],
   "source": [
    "colunas_pt = df_pt.columns\n",
    "colunas_en = df_en.columns\n",
    "\n",
    "dfs = []\n",
    "for col_pt, col_en in zip(colunas_pt, colunas_en):\n",
    "    df_concatenado = pd.concat([df_pt[col_pt], df_en[col_en]], axis=1)\n",
    "    df_concatenado.columns = [col_pt+'_pt',col_en+'_en']\n",
    "    dfs.append(df_concatenado)\n",
    "df_final = pd.concat(dfs, axis=1)\n",
    "df_final.to_csv('csv/troubleshooting_v2.csv')"
   ]
  },
  {
   "cell_type": "code",
   "execution_count": 136,
   "metadata": {},
   "outputs": [],
   "source": [
    "from re import sub\n",
    "\n",
    "def remove_punct(text):\n",
    "    text = sub(r\"[!#$%&'()*+,-./:<=>?@[^_`{|}~]+\", ' ',text)\n",
    "    text = sub(r'\\s+', ' ',text)\n",
    "    return text\n",
    "\n",
    "def remove_accent(text):\n",
    "    text = sub('[áàãâä]', 'a', sub('[éèêë]', 'e', sub('[íìîï]', 'i', sub('[óòõôö]', 'o', sub('[úùûü]', 'u', sub('[ç]','c',text))))))\n",
    "    text = sub(r'\\s+', ' ',text)\n",
    "    return text\n",
    "\n",
    "def tratar(text):\n",
    "    text = text.lower()\n",
    "    text = text.strip()\n",
    "    text = remove_punct(text)\n",
    "    text = remove_accent(text)\n",
    "    return text\n",
    "    "
   ]
  },
  {
   "cell_type": "code",
   "execution_count": 138,
   "metadata": {},
   "outputs": [
    {
     "name": "stdout",
     "output_type": "stream",
     "text": [
      "(138,)\n",
      "(138,)\n",
      "(2,)\n",
      "(2,)\n",
      "(14,)\n",
      "(14,)\n",
      "(152,)\n",
      "(153,)\n",
      "(480,)\n",
      "(486,)\n",
      "(451,)\n",
      "(447,)\n",
      "(1,)\n",
      "(1,)\n"
     ]
    }
   ],
   "source": [
    "for dataframe in dfs:\n",
    "    try:\n",
    "        dataframe = dataframe.applymap(lambda x:tratar(x))\n",
    "    except:\n",
    "        pass\n",
    "    colunas = dataframe.columns\n",
    "    print(dataframe[colunas[0]].unique().shape)\n",
    "    print(dataframe[colunas[1]].unique().shape)"
   ]
  },
  {
   "cell_type": "code",
   "execution_count": null,
   "metadata": {},
   "outputs": [],
   "source": []
  }
 ],
 "metadata": {
  "kernelspec": {
   "display_name": ".venv",
   "language": "python",
   "name": "python3"
  },
  "language_info": {
   "codemirror_mode": {
    "name": "ipython",
    "version": 3
   },
   "file_extension": ".py",
   "mimetype": "text/x-python",
   "name": "python",
   "nbconvert_exporter": "python",
   "pygments_lexer": "ipython3",
   "version": "3.9.7"
  },
  "orig_nbformat": 4
 },
 "nbformat": 4,
 "nbformat_minor": 2
}
